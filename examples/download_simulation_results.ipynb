{
 "cells": [
  {
   "cell_type": "markdown",
   "metadata": {
    "collapsed": true,
    "pycharm": {
     "name": "#%% md\n"
    }
   },
   "source": [
    "### Simulation results\n",
    "\n",
    "Once your simulation has finished, you probably want to analyse the results with for example\n",
    "the [ThreediToolbox](https://docs.3di.live/d_qgis_plugin.html) or\n",
    "[threedigrid](https://threedigrid.readthedocs.io/en/latest/readme.html#). In this notebook\n",
    "we'll show you how you can download the result files of a 3Di simulation.\n",
    "\n",
    "Let's first create the client to connect to the threedi-api:"
   ]
  },
  {
   "cell_type": "code",
   "execution_count": null,
   "metadata": {
    "pycharm": {
     "name": "#%%\n"
    }
   },
   "outputs": [],
   "source": [
    "import requests\n",
    "from getpass import getpass\n",
    "from pathlib import Path\n",
    "from openapi_client import ThreedimodelsApi, SimulationsApi, FilesApi\n",
    "from threedi_api_client.threedi_api_client import ThreediApiClient"
   ]
  },
  {
   "cell_type": "code",
   "execution_count": null,
   "metadata": {
    "pycharm": {
     "name": "#%%\n"
    }
   },
   "outputs": [],
   "source": [
    "# Provide authentication details\n",
    "API_HOST = \"https://api.3di.live/v3.0\"\n",
    "USERNAME = input(\"Username\")\n",
    "PASSWORD = getpass(\"Password\")\n",
    "\n",
    "config = {\n",
    "    \"API_HOST\": API_HOST,\n",
    "    \"API_USERNAME\": USERNAME,\n",
    "    \"API_PASSWORD\": PASSWORD\n",
    "}\n",
    "\n",
    "api_client = ThreediApiClient(config=config)"
   ]
  },
  {
   "cell_type": "markdown",
   "metadata": {
    "pycharm": {
     "name": "#%% md\n"
    }
   },
   "source": [
    "Now let's select a simulation we're interested in. Make sure it is finished simulating.\n",
    "We will select the simulation we created in the [previous](./simulation_with_events.ipynb)\n",
    "notebook.\n"
   ]
  },
  {
   "cell_type": "code",
   "execution_count": null,
   "metadata": {
    "pycharm": {
     "name": "#%%\n"
    }
   },
   "outputs": [],
   "source": [
    "simulation_api = SimulationsApi(api_client)\n",
    "\n",
    "simulation = simulation_api.simulations_list(\n",
    "    name=\"my simulation with events\", user__username=USERNAME\n",
    ").results[-1]\n",
    "status = simulation_api.simulations_status_list(simulation.id)\n",
    "\n",
    "print(simulation)\n",
    "print(f\"status: {status}\")\n",
    "assert status.name == 'finished'\n"
   ]
  },
  {
   "cell_type": "markdown",
   "metadata": {
    "pycharm": {
     "name": "#%% md\n"
    }
   },
   "source": [
    "Now that we have our finished simulation lets see which result files are available:"
   ]
  },
  {
   "cell_type": "code",
   "execution_count": null,
   "outputs": [],
   "source": [
    "result_files = simulation_api.simulations_results_files_list(simulation.id)\n",
    "\n",
    "for result in result_files.results:\n",
    "    print(result)"
   ],
   "metadata": {
    "collapsed": false,
    "pycharm": {
     "name": "#%%"
    }
   }
  },
  {
   "cell_type": "markdown",
   "source": [
    "Let's download all the results so we can analyse them locally:"
   ],
   "metadata": {
    "collapsed": false,
    "pycharm": {
     "name": "#%% md\n"
    }
   }
  },
  {
   "cell_type": "code",
   "execution_count": null,
   "outputs": [],
   "source": [
    "download_folder = Path(f'Results {simulation.name}')\n",
    "download_folder.mkdir(exist_ok=True)\n",
    "\n",
    "for file in result_files.results:\n",
    "    download_url = simulation_api.simulations_results_files_download(\n",
    "        id=file.id, simulation_pk=simulation.id\n",
    "    )\n",
    "\n",
    "    file_path = download_folder / file.filename\n",
    "    r = requests.get(download_url.get_url)\n",
    "    with open(file_path, 'wb') as f:\n",
    "        for chunk in r.iter_content(chunk_size=8192):\n",
    "            f.write(chunk)\n",
    "\n",
    "    print(f\"Finished downloading {file.filename}\")\n"
   ],
   "metadata": {
    "collapsed": false,
    "pycharm": {
     "name": "#%%"
    }
   }
  },
  {
   "cell_type": "markdown",
   "source": [
    "The ThreediToolbox and threedigrid also require the \"gridadmin.h5\" file of the simulation.\n",
    "This is a model specific file so it's under the threedimodels-api. We'll also download this file:"
   ],
   "metadata": {
    "collapsed": false,
    "pycharm": {
     "name": "#%% md\n"
    }
   }
  },
  {
   "cell_type": "code",
   "execution_count": null,
   "outputs": [],
   "source": [
    "model_api = ThreedimodelsApi(api_client)\n",
    "\n",
    "threedi_model_id = simulation.threedimodel_id\n",
    "download_url = model_api.threedimodels_gridadmin_download(threedi_model_id)\n",
    "\n",
    "file_path = download_folder / \"gridadmin.h5\"\n",
    "r = requests.get(download_url.get_url)\n",
    "with open(file_path, \"wb\") as f:\n",
    "    for chunk in r.iter_content(chunk_size=8192):\n",
    "        f.write(chunk)\n",
    "\n",
    "print(f\"Finished downloading gridadmin.h5\")"
   ],
   "metadata": {
    "collapsed": false,
    "pycharm": {
     "name": "#%%"
    }
   }
  }
 ],
 "metadata": {
  "kernelspec": {
   "display_name": "Python 3",
   "language": "python",
   "name": "python3"
  },
  "language_info": {
   "codemirror_mode": {
    "name": "ipython",
    "version": 3
   },
   "file_extension": ".py",
   "mimetype": "text/x-python",
   "name": "python",
   "nbconvert_exporter": "python",
   "pygments_lexer": "ipython3",
   "version": "3.8.1"
  }
 },
 "nbformat": 4,
 "nbformat_minor": 1
}