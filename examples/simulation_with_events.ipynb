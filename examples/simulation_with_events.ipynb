{
 "cells": [
  {
   "cell_type": "markdown",
   "metadata": {
    "collapsed": true,
    "pycharm": {
     "name": "#%% md\n"
    }
   },
   "source": [
    "### Simulation with events\n",
    "\n",
    "In the [previous](./starting_your_first_simulation.ipynb) notebook we showed you how to start a 3Di simulation. In this notebook\n",
    "we'll continue with the simulation by adding several events:\n",
    "- inital waterlevels\n",
    "- rain\n",
    "- breaches\n",
    "- laterals\n",
    "\n",
    "Let's quickly build a simulation again:"
   ]
  },
  {
   "cell_type": "code",
   "execution_count": null,
   "metadata": {
    "pycharm": {
     "name": "#%%\n"
    }
   },
   "outputs": [],
   "source": [
    "from datetime import datetime\n",
    "from getpass import getpass\n",
    "from openapi_client import ThreedimodelsApi, SimulationsApi\n",
    "from threedi_api_client.threedi_api_client import ThreediApiClient"
   ]
  },
  {
   "cell_type": "code",
   "execution_count": null,
   "metadata": {
    "pycharm": {
     "name": "#%%\n"
    }
   },
   "outputs": [],
   "source": [
    "# Provide authentication details\n",
    "API_HOST = \"https://api.3di.live/v3.0\"\n",
    "USERNAME = input(\"Username\")\n",
    "PASSWORD = getpass(\"Password\")\n",
    "\n",
    "config = {\n",
    "    \"API_HOST\": API_HOST,\n",
    "    \"API_USERNAME\": USERNAME,\n",
    "    \"API_PASSWORD\": PASSWORD\n",
    "}\n",
    "\n",
    "api_client = ThreediApiClient(config=config)"
   ]
  },
  {
   "cell_type": "code",
   "execution_count": null,
   "metadata": {
    "pycharm": {
     "name": "#%%\n"
    }
   },
   "outputs": [],
   "source": [
    "# Specify the threedi-model and organisation\n",
    "organisation_uuid = \"b08433fa47c1401eb9cbd4156034c679\"\n",
    "models_api = ThreedimodelsApi(api_client)\n",
    "threedimodel = models_api.threedimodels_list(name__icontains='v2_bergermeer').results[0]"
   ]
  },
  {
   "cell_type": "code",
   "execution_count": null,
   "outputs": [],
   "source": [
    "simulation_api = SimulationsApi(api_client)\n",
    "\n",
    "simulation = simulation_api.simulations_create(\n",
    "    data={\n",
    "        \"name\": \"my first simulation\",\n",
    "        \"threedimodel\": threedimodel.id,\n",
    "        \"organisation\": organisation_uuid,\n",
    "        \"start_datetime\": datetime.now(),\n",
    "        \"duration\": 3600  # in seconds, so we simulate for 1 hour\n",
    "    }\n",
    ")\n",
    "\n",
    "print(simulation)"
   ],
   "metadata": {
    "collapsed": false,
    "pycharm": {
     "name": "#%%\n"
    }
   }
  },
  {
   "cell_type": "markdown",
   "source": [
    "Now that we have created a simulation again, we can start adding some interesting events to\n",
    "the simulation before starting it."
   ],
   "metadata": {
    "collapsed": false,
    "pycharm": {
     "name": "#%% md\n"
    }
   }
  },
  {
   "cell_type": "markdown",
   "source": [
    "### initial waterlevels\n",
    "\n",
    "Let's set the waterlevel to 0.5m"
   ],
   "metadata": {
    "collapsed": false,
    "pycharm": {
     "name": "#%% md\n"
    }
   }
  },
  {
   "cell_type": "code",
   "execution_count": null,
   "outputs": [],
   "source": [
    "waterlevel = simulation_api.simulations_initial1d_water_level_constant_create(\n",
    "    simulation_pk=simulation.id, data={\"value\": 0.5}\n",
    ")"
   ],
   "metadata": {
    "collapsed": false,
    "pycharm": {
     "name": "#%%\n"
    }
   }
  },
  {
   "cell_type": "markdown",
   "source": [
    "### Rain\n",
    "\n",
    "Let's make a time varying rain: every 15 minutes it will decrease in intensity."
   ],
   "metadata": {
    "collapsed": false,
    "pycharm": {
     "name": "#%% md\n"
    }
   }
  },
  {
   "cell_type": "code",
   "execution_count": null,
   "outputs": [],
   "source": [
    "rain = simulation_api.simulations_events_rain_timeseries_create(\n",
    "    simulation_pk=simulation.id, data={\n",
    "        'offset':0,\n",
    "        'values': [[0, 0.005], [900, 0.002], [1800, 0.001], [2700, 0.0005], [3600, 0]],\n",
    "        'units': 'm/s'}\n",
    ")"
   ],
   "metadata": {
    "collapsed": false,
    "pycharm": {
     "name": "#%%\n"
    }
   }
  },
  {
   "cell_type": "markdown",
   "source": [
    "### Breaches\n",
    "\n",
    "Breaches are dependent on the selected model. So let's first see if the model has\n",
    "any breaches configured and if so use the first one."
   ],
   "metadata": {
    "collapsed": false,
    "pycharm": {
     "name": "#%% md\n"
    }
   }
  },
  {
   "cell_type": "code",
   "execution_count": null,
   "outputs": [],
   "source": [
    "potential_breaches = models_api.threedimodels_potentialbreaches_list(threedimodel.id)\n",
    "print(potential_breaches)\n",
    "\n",
    "# Let's pick the first potential breach\n",
    "breach = potential_breaches.results[0]\n",
    "\n",
    "breach_event = simulation_api.simulations_events_breaches_create(\n",
    "    simulation.id, data={\n",
    "        \"potential_breach\": breach.id,\n",
    "        \"duration_till_max_depth\": 1800,\n",
    "        \"initial_width\": 0.5,\n",
    "        \"offset\": 1800\n",
    "    }\n",
    ")"
   ],
   "metadata": {
    "collapsed": false,
    "pycharm": {
     "name": "#%%\n"
    }
   }
  },
  {
   "cell_type": "markdown",
   "source": [
    "### Laterals\n",
    "\n",
    "We'll add a lateral by specifying a connection_node on which we want the lateral to apply."
   ],
   "metadata": {
    "collapsed": false,
    "pycharm": {
     "name": "#%% md\n"
    }
   }
  },
  {
   "cell_type": "code",
   "execution_count": null,
   "outputs": [],
   "source": [
    "lateral = simulation_api.simulations_events_lateral_constant_create(\n",
    "    simulation.id, data={\n",
    "        \"offset\": 900,\n",
    "        \"connection_node\": 4,\n",
    "        \"value\": 0.001,\n",
    "        \"duration\": 300,\n",
    "        \"units\": \"m3/s\"\n",
    "    }\n",
    ")"
   ],
   "metadata": {
    "collapsed": false,
    "pycharm": {
     "name": "#%%\n"
    }
   }
  },
  {
   "cell_type": "markdown",
   "source": [
    "### Events overview\n",
    "\n",
    "To get an overview of all our created events on this simulation:"
   ],
   "metadata": {
    "collapsed": false,
    "pycharm": {
     "name": "#%% md\n"
    }
   }
  },
  {
   "cell_type": "code",
   "execution_count": null,
   "outputs": [],
   "source": [
    "events = simulation_api.simulations_events(simulation.id)\n",
    "print(events)"
   ],
   "metadata": {
    "collapsed": false,
    "pycharm": {
     "name": "#%%\n"
    }
   }
  },
  {
   "cell_type": "markdown",
   "source": [
    "Now let's start the simulation:"
   ],
   "metadata": {
    "collapsed": false,
    "pycharm": {
     "name": "#%% md\n"
    }
   }
  },
  {
   "cell_type": "code",
   "execution_count": null,
   "outputs": [],
   "source": [
    "simulation_api.simulations_actions_create(simulation.id, data={\"name\": \"start\"})"
   ],
   "metadata": {
    "collapsed": false,
    "pycharm": {
     "name": "#%%\n"
    }
   }
  },
  {
   "cell_type": "markdown",
   "source": [
    "And eventually the simulation will finish!"
   ],
   "metadata": {
    "collapsed": false,
    "pycharm": {
     "name": "#%% md\n"
    }
   }
  },
  {
   "cell_type": "code",
   "execution_count": null,
   "outputs": [],
   "source": [
    "simulation_api.simulations_status_list(simulation.id)"
   ],
   "metadata": {
    "collapsed": false,
    "pycharm": {
     "name": "#%%\n"
    }
   }
  },
  {
   "cell_type": "code",
   "execution_count": null,
   "outputs": [],
   "source": [
    "\n"
   ],
   "metadata": {
    "collapsed": false,
    "pycharm": {
     "name": "#%%\n"
    }
   }
  }
 ],
 "metadata": {
  "kernelspec": {
   "display_name": "Python 3",
   "language": "python",
   "name": "python3"
  },
  "language_info": {
   "codemirror_mode": {
    "name": "ipython",
    "version": 3
   },
   "file_extension": ".py",
   "mimetype": "text/x-python",
   "name": "python",
   "nbconvert_exporter": "python",
   "pygments_lexer": "ipython3",
   "version": "3.8.1"
  }
 },
 "nbformat": 4,
 "nbformat_minor": 1
}