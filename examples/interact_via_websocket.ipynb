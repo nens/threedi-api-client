{
 "cells": [
  {
   "cell_type": "markdown",
   "metadata": {
    "collapsed": true,
    "pycharm": {
     "name": "#%% md\n"
    }
   },
   "source": [
    "### Follow the simulation using websockets\n",
    "\n",
    "In this notebook we'll show you how to open a websocket connection with the simulation to\n",
    "follow its progress. Additionally we will also use a websocket to follow the waterlevels\n",
    "of a node over time.\n",
    "\n",
    "In this notebook we will use the package [websockets](https://websockets.readthedocs.io/en/stable/).\n",
    "Make sure it's installed if you want to run this notebook locally."
   ]
  },
  {
   "cell_type": "code",
   "execution_count": null,
   "metadata": {
    "pycharm": {
     "name": "#%%\n"
    }
   },
   "outputs": [],
   "source": [
    "import asyncio\n",
    "import json\n",
    "from datetime import datetime\n",
    "from getpass import getpass\n",
    "\n",
    "import numpy as np\n",
    "import ipywidgets as widgets\n",
    "import websockets\n",
    "from IPython.display import display\n",
    "from websockets.http import Headers\n",
    "\n",
    "from threedi_api_client.threedi_api_client import ThreediApiClient\n",
    "from openapi_client import ThreedimodelsApi, SimulationsApi, AuthApi"
   ]
  },
  {
   "cell_type": "code",
   "execution_count": null,
   "metadata": {
    "pycharm": {
     "name": "#%%\n"
    }
   },
   "outputs": [],
   "source": [
    "# Provide authentication details\n",
    "API_HOST = \"https://api.3di.live/v3.0\"\n",
    "USERNAME = input(\"Username\")\n",
    "PASSWORD = getpass(\"Password\")\n",
    "\n",
    "config = {\n",
    "    \"API_HOST\": API_HOST,\n",
    "    \"API_USERNAME\": USERNAME,\n",
    "    \"API_PASSWORD\": PASSWORD\n",
    "}\n",
    "\n",
    "api_client = ThreediApiClient(config=config)"
   ]
  },
  {
   "cell_type": "code",
   "execution_count": null,
   "metadata": {
    "pycharm": {
     "name": "#%%\n"
    }
   },
   "outputs": [],
   "source": [
    "# Specify the threedi-model and organisation\n",
    "organisation_uuid = \"b08433fa47c1401eb9cbd4156034c679\"\n",
    "models_api = ThreedimodelsApi(api_client)\n",
    "threedimodel = models_api.threedimodels_list(name__icontains='v2_bergermeer').results[0]"
   ]
  },
  {
   "cell_type": "code",
   "execution_count": null,
   "metadata": {
    "pycharm": {
     "name": "#%%\n"
    }
   },
   "outputs": [],
   "source": [
    "simulation_api = SimulationsApi(api_client)\n",
    "\n",
    "simulation = simulation_api.simulations_create(\n",
    "    data={\n",
    "        \"name\": \"just some simulation\",\n",
    "        \"threedimodel\": threedimodel.id,\n",
    "        \"organisation\": organisation_uuid,\n",
    "        \"start_datetime\": datetime.now(),\n",
    "        \"duration\": 3600  # in seconds, so we simulate for 1 hour\n",
    "    }\n",
    ")"
   ]
  },
  {
   "cell_type": "markdown",
   "metadata": {
    "pycharm": {
     "name": "#%% md\n"
    }
   },
   "source": [
    "The simulation needs to be initialized before we can start a websocket connection.\n",
    "We'll initialize the simulation but we won't start it yet."
   ]
  },
  {
   "cell_type": "code",
   "execution_count": null,
   "metadata": {
    "pycharm": {
     "name": "#%%\n"
    }
   },
   "outputs": [],
   "source": [
    "simulation_api.simulations_actions_create(\n",
    "    simulation_pk=simulation.id, data={\"name\": \"initialize\"}\n",
    ")"
   ]
  },
  {
   "cell_type": "markdown",
   "metadata": {
    "pycharm": {
     "name": "#%% md\n"
    }
   },
   "source": [
    "The websocket uses JWT authentication so lets get our JWT token."
   ]
  },
  {
   "cell_type": "code",
   "execution_count": null,
   "metadata": {
    "pycharm": {
     "name": "#%%\n"
    }
   },
   "outputs": [],
   "source": [
    "auth_api = AuthApi(api_client)\n",
    "jwt_token = auth_api.auth_token_create(data={\"username\": USERNAME, \"password\": PASSWORD})\n",
    "\n",
    "token = api_client.configuration.get_api_key_with_prefix(\"Authorization\")\n",
    "headers = Headers(authorization=token)\n",
    "uri = f'wss://api.3di.live/v3.0/simulations/{simulation.id}/'"
   ]
  },
  {
   "cell_type": "markdown",
   "metadata": {
    "pycharm": {
     "name": "#%% md\n"
    }
   },
   "source": [
    "First we create the progress-bar."
   ]
  },
  {
   "cell_type": "code",
   "execution_count": null,
   "metadata": {
    "pycharm": {
     "name": "#%%\n"
    }
   },
   "outputs": [],
   "source": [
    "progress = widgets.IntProgress(value=0, min=0, max=simulation.duration)\n",
    "\n",
    "async def update_progress_bar():\n",
    "    async with websockets.connect(uri, extra_headers=headers) as websocket:\n",
    "        print(\"Connected to the websocket\")\n",
    "        async for message in websocket:\n",
    "            message = json.loads(message)\n",
    "            if message.get(\"type\") == \"time\":\n",
    "                progress.value = message['data']['time']\n",
    "        print(\"Websocket connection closed\")\n",
    "\n",
    "asyncio.tasks.create_task(update_progress_bar())"
   ]
  },
  {
   "cell_type": "markdown",
   "metadata": {
    "pycharm": {
     "name": "#%% md\n"
    }
   },
   "source": [
    "Next we print the waterlevels over time."
   ]
  },
  {
   "cell_type": "code",
   "execution_count": null,
   "metadata": {
    "pycharm": {
     "name": "#%%\n"
    }
   },
   "outputs": [],
   "source": [
    "waterlevel_websocket_url = simulation_api.simulations_visualisations_water_level_graph_create(\n",
    "    simulation_pk=simulation.id,\n",
    "    data={\"start_time\": 0, \"subscribe\": True, \"node_id\": 1, \"subscribe_rate_limit\": 2}\n",
    ")\n",
    "\n",
    "async def print_waterlevels():\n",
    "    async with websockets.connect(waterlevel_websocket_url.url, extra_headers=headers) as websocket:\n",
    "        print(\"Connected to the websocket\")\n",
    "        async for message in websocket:\n",
    "            data = np.frombuffer(message, dtype=np.float32)\n",
    "            print(f\"Time: {int(data[0]):<4} waterlevel: {data[1]}\")\n",
    "        print(\"Websocket connection closed\")\n",
    "\n",
    "asyncio.tasks.create_task(print_waterlevels())"
   ]
  },
  {
   "cell_type": "markdown",
   "metadata": {
    "pycharm": {
     "name": "#%% md\n"
    }
   },
   "source": [
    "Once we start the simulation we should see updates in the progress bar and the waterlevel."
   ]
  },
  {
   "cell_type": "code",
   "execution_count": null,
   "metadata": {
    "pycharm": {
     "name": "#%%\n"
    }
   },
   "outputs": [],
   "source": [
    "display(progress)\n",
    "simulation_api.simulations_actions_create(\n",
    "    simulation_pk=simulation.id, data={\"name\": \"start\"}\n",
    ")"
   ]
  },
  {
   "cell_type": "code",
   "execution_count": null,
   "metadata": {
    "pycharm": {
     "name": "#%%\n"
    }
   },
   "outputs": [],
   "source": []
  }
 ],
 "metadata": {
  "kernelspec": {
   "display_name": "Python 3",
   "language": "python",
   "name": "python3"
  },
  "language_info": {
   "codemirror_mode": {
    "name": "ipython",
    "version": 3
   },
   "file_extension": ".py",
   "mimetype": "text/x-python",
   "name": "python",
   "nbconvert_exporter": "python",
   "pygments_lexer": "ipython3",
   "version": "3.8.1"
  }
 },
 "nbformat": 4,
 "nbformat_minor": 1
}