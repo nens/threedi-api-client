{
 "cells": [
  {
   "attachments": {},
   "cell_type": "markdown",
   "metadata": {
    "collapsed": true,
    "pycharm": {
     "name": "#%% md\n"
    }
   },
   "source": [
    "### Visualise results of 1D nodes of a threedimodel\n"
   ]
  },
  {
   "cell_type": "markdown",
   "metadata": {},
   "source": [
    "Load libraries"
   ]
  },
  {
   "cell_type": "code",
   "execution_count": null,
   "metadata": {
    "pycharm": {
     "name": "#%%\n"
    }
   },
   "outputs": [],
   "source": [
    "import requests\n",
    "from pathlib import Path\n",
    "from getpass import getpass\n",
    "\n",
    "import numpy as np\n",
    "import pandas as pd\n",
    "\n",
    "from pyproj import Transformer\n",
    "\n",
    "from threedigrid.admin.gridresultadmin import GridH5ResultAdmin\n",
    "from threedigrid.admin.gridadmin import GridH5Admin\n",
    "from threedi_api_client.api import ThreediApi\n",
    "from threedi_api_client.openapi.api.v3_api import V3Api\n",
    "from threedi_api_client.files import download_file\n",
    "\n",
    "from ipyleaflet import Map, basemaps, CircleMarker, LegendControl\n",
    "from branca.colormap import linear"
   ]
  },
  {
   "cell_type": "markdown",
   "metadata": {},
   "source": [
    "Authentication"
   ]
  },
  {
   "cell_type": "code",
   "execution_count": null,
   "metadata": {
    "pycharm": {
     "name": "#%%\n"
    }
   },
   "outputs": [],
   "source": [
    "# Provide authentication details\n",
    "API_HOST = \"https://api.3di.live\"\n",
    "PERSONAL_API_KEY = getpass(\"Personal API token\")  # https://management.3di.live/personal_api_keys\n",
    "\n",
    "config = {\n",
    "    \"THREEDI_API_HOST\": API_HOST,\n",
    "    \"THREEDI_API_PERSONAL_API_TOKEN\": PERSONAL_API_KEY\n",
    "}\n",
    "\n",
    "api_client: V3Api = ThreediApi(config=config)"
   ]
  },
  {
   "cell_type": "markdown",
   "metadata": {},
   "source": [
    "Load model and print its properties"
   ]
  },
  {
   "cell_type": "code",
   "execution_count": null,
   "metadata": {
    "pycharm": {
     "name": "#%%\n"
    }
   },
   "outputs": [],
   "source": [
    "MODELNAME = input(\"Input modelname for filtering simulations\")\n",
    "\n",
    "threedi_model = api_client.threedimodels_list(name__icontains=MODELNAME).results[0]\n",
    "print(threedi_model)"
   ]
  },
  {
   "cell_type": "markdown",
   "metadata": {},
   "source": [
    "Get the results from simulation"
   ]
  },
  {
   "cell_type": "code",
   "execution_count": null,
   "metadata": {},
   "outputs": [],
   "source": [
    "simulation_results = api_client.simulations_list(name__contains=MODELNAME)\n",
    "\n",
    "if simulation_results.count == 0:\n",
    "    raise Exception(f\"No simulations found for model {MODELNAME}\")\n",
    "\n",
    "simulation = simulation_results.results[0]\n",
    "\n",
    "status = api_client.simulations_status_list(simulation.id)\n",
    "\n",
    "print(simulation)\n",
    "print(f\"status: {status}\")\n",
    "assert status.name == 'finished'"
   ]
  },
  {
   "cell_type": "markdown",
   "metadata": {},
   "source": [
    "Download the result files from the threedimodel"
   ]
  },
  {
   "cell_type": "code",
   "execution_count": null,
   "metadata": {},
   "outputs": [],
   "source": [
    "# get result files\n",
    "result_files = api_client.simulations_results_files_list(simulation.id)\n",
    "\n",
    "for result in result_files.results:\n",
    "    print(result)\n",
    "\n",
    "# download result files\n",
    "download_folder = Path(f'results_{simulation.id}')\n",
    "download_folder.mkdir(exist_ok=True)\n",
    "\n",
    "for file in result_files.results:\n",
    "    download = api_client.simulations_results_files_download(\n",
    "        id=file.id, simulation_pk=simulation.id\n",
    "    )\n",
    "    file_path = download_folder / file.filename\n",
    "    download_file(download.get_url, file_path)\n",
    "    print(f\"Finished downloading {file.filename}\")\n",
    "\n",
    "# download grid administration file\n",
    "threedi_model_id = simulation.threedimodel_id\n",
    "download_url = api_client.threedimodels_gridadmin_download(threedi_model_id)\n",
    "file_path = download_folder / \"gridadmin.h5\"\n",
    "r = requests.get(download_url.get_url, timeout=600)\n",
    "with open(file_path, \"wb\") as f:\n",
    "    for chunk in r.iter_content(chunk_size=8192):\n",
    "        f.write(chunk)\n",
    "print(f\"Finished downloading gridadmin.h5\")"
   ]
  },
  {
   "cell_type": "markdown",
   "metadata": {},
   "source": [
    "Create dataframe with coordindates and waterlevels"
   ]
  },
  {
   "cell_type": "code",
   "execution_count": null,
   "metadata": {},
   "outputs": [],
   "source": [
    "# define paths and files\n",
    "f = download_folder / \"gridadmin.h5\"\n",
    "nc = download_folder / \"results_3di.nc\"\n",
    "\n",
    "# load files into gr object\n",
    "ga = GridH5Admin(str(f))\n",
    "gr = GridH5ResultAdmin(str(f), str(nc))\n",
    "\n",
    "# set chunksize\n",
    "gr.set_timeseries_chunk_size(200)\n",
    "\n",
    "# create pandas df with coordinates and water level of last timestep\n",
    "node_df = pd.DataFrame(\n",
    "    {\n",
    "        \"x\": ga.nodes.coordinates[0],\n",
    "        \"y\": ga.nodes.coordinates[1],\n",
    "        \"s1\": gr.nodes.data[\"s1\"][-1],\n",
    "        \"lat\": np.nan,\n",
    "        \"lon\": np.nan,\n",
    "    })\n",
    "\n",
    "# # convert x and y in EPSG 28992 to lat and lon\n",
    "transformer = Transformer.from_crs(\"epsg:28992\", \"epsg:4326\")\n",
    "for i in range(len(node_df)):\n",
    "    node_df.loc[i, 'lat'] = transformer.transform(node_df.x[i], node_df.y[i])[0]\n",
    "    node_df.loc[i, 'lon'] = transformer.transform(node_df.x[i], node_df.y[i])[1]"
   ]
  },
  {
   "cell_type": "markdown",
   "metadata": {},
   "source": [
    "Plot the waterlevels on a map between min and maximum"
   ]
  },
  {
   "cell_type": "code",
   "execution_count": null,
   "metadata": {},
   "outputs": [],
   "source": [
    "# get extent of model\n",
    "extent_coordinates = threedi_model.extent_one_d.coordinates\n",
    "\n",
    "# get center and create map\n",
    "center = (extent_coordinates[0][1] + extent_coordinates[1][1]) / 2.0, (extent_coordinates[0][0] + extent_coordinates[1][0]) / 2.0\n",
    "m = Map(center=center, zoom=10, basemap=basemaps.Esri.WorldImagery)\n",
    "\n",
    "# set min and max water level for colormap\n",
    "MIN = input(\"Set minimum water level for colormap\")\n",
    "MAX = input(\"Set maximum water level for colormap\")\n",
    "\n",
    "# add circle markers to the map\n",
    "colormap = linear.BuPu_03.scale(float(MIN), float(MAX))\n",
    "for i in node_df.lat.index:\n",
    "    marker = CircleMarker(\n",
    "        location=[node_df.lat[i], node_df.lon[i]],\n",
    "        radius=5,\n",
    "        color=colormap(node_df.s1[i]),\n",
    "        fill=True,\n",
    "        fill_color=colormap(node_df.s1[i]),\n",
    "        fill_opacity=0.8,\n",
    "        weight=0)\n",
    "    m.add_layer(marker)\n",
    "\n",
    "# add the colormap as a legend to the map\n",
    "legend = LegendControl({MAX:\"#810f7c\", MIN:\"#edf8fb\"}, name=\"waterlevel\", position=\"topright\")\n",
    "m.add_control(legend)\n",
    "\n",
    "# show the map\n",
    "m"
   ]
  }
 ],
 "metadata": {
  "kernelspec": {
   "display_name": "Python 3",
   "language": "python",
   "name": "python3"
  },
  "language_info": {
   "codemirror_mode": {
    "name": "ipython",
    "version": 3
   },
   "file_extension": ".py",
   "mimetype": "text/x-python",
   "name": "python",
   "nbconvert_exporter": "python",
   "pygments_lexer": "ipython3",
   "version": "3.11.4"
  }
 },
 "nbformat": 4,
 "nbformat_minor": 1
}
