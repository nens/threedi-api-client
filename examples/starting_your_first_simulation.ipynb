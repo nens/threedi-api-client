{
 "cells": [
  {
   "cell_type": "markdown",
   "metadata": {
    "collapsed": true,
    "pycharm": {
     "name": "#%% md\n"
    }
   },
   "source": [
    "### Starting your first 3Di simulation\n",
    "\n",
    "In this notebook we will go through the steps of connecting to the threedi-api and\n",
    "start our first simple 3Di simulation.\n",
    "\n",
    "Let's first import all required modules for the notebook:"
   ]
  },
  {
   "cell_type": "code",
   "execution_count": 38,
   "metadata": {
    "pycharm": {
     "name": "#%%\n"
    }
   },
   "outputs": [],
   "source": [
    "from datetime import datetime\n",
    "from getpass import getpass\n",
    "from openapi_client import ApiException, SimulationsApi, OrganisationsApi\n",
    "from openapi_client.api import AuthApi\n",
    "from openapi_client.api import ThreedimodelsApi\n",
    "from threedi_api_client.threedi_api_client import ThreediApiClient"
   ]
  },
  {
   "cell_type": "markdown",
   "metadata": {
    "pycharm": {
     "name": "#%% md\n"
    }
   },
   "source": [
    "Then we'll provide our credentials to connect to the threedi-api"
   ]
  },
  {
   "cell_type": "code",
   "execution_count": 18,
   "metadata": {
    "pycharm": {
     "name": "#%%\n"
    }
   },
   "outputs": [],
   "source": [
    "API_HOST = \"https://api.3di.live/v3.0\"\n",
    "USERNAME = input(\"Username\")\n",
    "PASSWORD = getpass(\"Password\")\n",
    "config = {\n",
    "    \"API_HOST\": API_HOST,\n",
    "    \"API_USERNAME\": USERNAME,\n",
    "    \"API_PASSWORD\": PASSWORD\n",
    "}\n",
    "\n",
    "api_client = ThreediApiClient(config=config)"
   ]
  },
  {
   "cell_type": "markdown",
   "metadata": {
    "pycharm": {
     "name": "#%% md\n"
    }
   },
   "source": [
    "Check if we can connect to the threedi-api with the provided credentials:"
   ]
  },
  {
   "cell_type": "code",
   "execution_count": 24,
   "metadata": {
    "pycharm": {
     "name": "#%%\n"
    }
   },
   "outputs": [
    {
     "name": "stdout",
     "output_type": "stream",
     "text": [
      "Successfully logged in as richard.boon!\n"
     ]
    }
   ],
   "source": [
    "auth_api = AuthApi(api_client)\n",
    "\n",
    "try:\n",
    "    user = auth_api.auth_profile_list()\n",
    "except ApiException as e:\n",
    "    print(\"Oops, something went wrong. Maybe you made a typo?\")\n",
    "else:\n",
    "    print(f\"Successfully logged in as {user.username}!\")"
   ]
  },
  {
   "cell_type": "markdown",
   "metadata": {
    "pycharm": {
     "name": "#%% md\n"
    }
   },
   "source": [
    "To run a simulation we'll need a threedi-model. Let's see which threedi-models are\n",
    "available:"
   ]
  },
  {
   "cell_type": "code",
   "execution_count": 30,
   "metadata": {
    "pycharm": {
     "name": "#%%\n"
    }
   },
   "outputs": [
    {
     "name": "stdout",
     "output_type": "stream",
     "text": [
      "10_1D_NWRW_default\n",
      "10_1D_NWRW_default\n",
      "10_1D_NWRW_default\n",
      "10_1D_NWRW_default\n",
      "10_1D_NWRW_default\n",
      "10_1D_NWRW_default\n",
      "10_1D_NWRW_default\n",
      "10_1D_NWRW_default\n",
      "10_1D_NWRW_default\n",
      "10_1D_NWRW_default\n"
     ]
    }
   ],
   "source": [
    "models_api = ThreedimodelsApi(api_client)\n",
    "\n",
    "models = models_api.threedimodels_list(limit=5)  # limit to the first 5 results\n",
    "for model in models.results:\n",
    "    print(f\"{model.name}\")"
   ]
  },
  {
   "cell_type": "markdown",
   "metadata": {
    "pycharm": {
     "name": "#%% md\n"
    }
   },
   "source": [
    "If we already know the name of a specific model, we can also look it up with the following api call:"
   ]
  },
  {
   "cell_type": "code",
   "execution_count": 36,
   "metadata": {
    "pycharm": {
     "name": "#%%\n"
    }
   },
   "outputs": [
    {
     "name": "stdout",
     "output_type": "stream",
     "text": [
      "{'count': 1,\n",
      " 'next': None,\n",
      " 'previous': None,\n",
      " 'results': [{'breach_count': '1',\n",
      "              'description': '',\n",
      "              'disabled': False,\n",
      "              'epsg': 28992,\n",
      "              'extent_one_d': \"{'type': 'LineString', 'coordinates': \"\n",
      "                              '[[4.65566310525691, 52.590857471993935], '\n",
      "                              '[4.808619107856248, 52.69717725606727]]}',\n",
      "              'extent_two_d': \"{'type': 'LineString', 'coordinates': \"\n",
      "                              '[[4.668275740999323, 52.619558911160205], '\n",
      "                              '[4.738494268493689, 52.66453975864303]]}',\n",
      "              'extent_zero_d': None,\n",
      "              'id': 20,\n",
      "              'inp_success': True,\n",
      "              'inpy_version': '3.0.26.7-1.4.20-1',\n",
      "              'lines_count': 31916,\n",
      "              'model_ini': 'v2_bergermeer_simple_infil_no_grndwtr.ini',\n",
      "              'name': 'v2_bergermeer_simple_infil_no_grndwtr',\n",
      "              'nodes_count': 13280,\n",
      "              'repository_slug': 'v2_bergermeer',\n",
      "              'revision': 'https://api.3di.live/v3.0/revisions/6/',\n",
      "              'revision_commit_date': '2020-04-08T13:42:32.023486Z',\n",
      "              'revision_hash': '3a58dfb2e95f10ca121e26e4259ed68f60e3268f',\n",
      "              'revision_number': '94',\n",
      "              'slug': 'v2_bergermeer-v2_bergermeer_simple_infil_no_grndwtr-94-3a58dfb2e95f10ca121e26e4259ed68f60e3268f',\n",
      "              'storage_space': 614150614,\n",
      "              'storage_space_humanized': '614.2 MB',\n",
      "              'url': 'https://api.3di.live/v3.0/threedimodels/20/',\n",
      "              'user': 'renier.kramer'}]}\n"
     ]
    }
   ],
   "source": [
    "my_model = models_api.threedimodels_list(name__icontains='v2_bergermeer')\n",
    "print(my_model)\n",
    "\n",
    "my_model = my_model.results[0]"
   ]
  },
  {
   "cell_type": "markdown",
   "metadata": {
    "pycharm": {
     "name": "#%% md\n"
    }
   },
   "source": [
    "Now that we have a model we are almost ready to create the simulation. But first we'll need \n",
    "to get an organisation under which's name we will run the simulation.\n",
    "\n",
    "Let's see which organisations are available:"
   ]
  },
  {
   "cell_type": "code",
   "execution_count": 42,
   "metadata": {
    "pycharm": {
     "name": "#%%\n"
    }
   },
   "outputs": [
    {
     "name": "stdout",
     "output_type": "stream",
     "text": [
      "BWN HHNK: 48dac75bef8a42ebbb52e8f89bbdb9f2\n",
      "Nelen & Schuurmans: 61f5a464c35044c19bc7d4b42d7f58cb\n",
      "N&S IT: b08433fa47c1401eb9cbd4156034c679\n",
      "Royal HaskoningDHV: 568a4d88c1b345668759dd9b305f619d\n",
      "Waterschap Limburg: 7a1c4292ac0f44a6b788a1155bb23043\n"
     ]
    }
   ],
   "source": [
    "organisation_api = OrganisationsApi(api_client)\n",
    "\n",
    "organisations = organisation_api.organisations_list()\n",
    "for organisation in organisations.results:\n",
    "    print(f\"{organisation.name}: {organisation.unique_id}\")\n",
    "\n",
    "# Here I use the following organisation, you should select from the list below\n",
    "organisation_uuid = \"b08433fa47c1401eb9cbd4156034c679\""
   ]
  },
  {
   "cell_type": "markdown",
   "metadata": {
    "pycharm": {
     "name": "#%% md\n"
    }
   },
   "source": [
    "Now we got all the pieces to create a simulation"
   ]
  },
  {
   "cell_type": "code",
   "execution_count": 44,
   "outputs": [],
   "source": [
    "simulation_api = SimulationsApi(api_client)\n",
    "\n",
    "my_simulation = simulation_api.simulations_create(\n",
    "    data={\n",
    "        \"name\": \"my first simulation\",\n",
    "        \"threedimodel\": my_model.id,\n",
    "        \"organisation\": organisation_uuid,\n",
    "        \"start_datetime\": datetime.now(),\n",
    "        \"duration\": 3600  # in seconds, so we simulate for 1 hour\n",
    "    }\n",
    ")"
   ],
   "metadata": {
    "collapsed": false,
    "pycharm": {
     "name": "#%%\n"
    }
   }
  },
  {
   "cell_type": "markdown",
   "source": [
    "The simulation has now been created but is not yet running. We can see the status of\n",
    "the simulation with the following call:"
   ],
   "metadata": {
    "collapsed": false,
    "pycharm": {
     "name": "#%% md\n"
    }
   }
  },
  {
   "cell_type": "code",
   "execution_count": 46,
   "outputs": [
    {
     "name": "stdout",
     "output_type": "stream",
     "text": [
      "{'created': datetime.datetime(2020, 7, 27, 14, 2, 10, 444245, tzinfo=tzutc()),\n",
      " 'id': 15862,\n",
      " 'name': 'created',\n",
      " 'paused': None,\n",
      " 'time': 0.0}\n"
     ]
    }
   ],
   "source": [
    "status = simulation_api.simulations_status_list(my_simulation.id)\n",
    "print(status)"
   ],
   "metadata": {
    "collapsed": false,
    "pycharm": {
     "name": "#%%\n"
    }
   }
  },
  {
   "cell_type": "markdown",
   "source": [
    "To run this simulation we have to tell it to start:"
   ],
   "metadata": {
    "collapsed": false,
    "pycharm": {
     "name": "#%% md\n"
    }
   }
  },
  {
   "cell_type": "code",
   "execution_count": 47,
   "outputs": [
    {
     "data": {
      "text/plain": "{'duration': None, 'max_rate': None, 'name': 'start', 'timeout': 300}"
     },
     "execution_count": 47,
     "metadata": {},
     "output_type": "execute_result"
    }
   ],
   "source": [
    "simulation_api.simulations_actions_create(my_simulation.id, data={\"name\": \"start\"})"
   ],
   "metadata": {
    "collapsed": false,
    "pycharm": {
     "name": "#%%\n"
    }
   }
  },
  {
   "cell_type": "markdown",
   "source": [
    "Eventually the simulation will finish. You can periodically check its progress by calling\n",
    "for the status again:"
   ],
   "metadata": {
    "collapsed": false,
    "pycharm": {
     "name": "#%% md\n"
    }
   }
  },
  {
   "cell_type": "code",
   "execution_count": 59,
   "outputs": [
    {
     "data": {
      "text/plain": "{'created': datetime.datetime(2020, 7, 27, 14, 7, 6, 654905, tzinfo=tzutc()),\n 'id': 15866,\n 'name': 'finished',\n 'paused': False,\n 'time': 3600.0}"
     },
     "execution_count": 59,
     "metadata": {},
     "output_type": "execute_result"
    }
   ],
   "source": [
    "simulation_api.simulations_status_list(my_simulation.id)\n"
   ],
   "metadata": {
    "collapsed": false,
    "pycharm": {
     "name": "#%%\n"
    }
   }
  },
  {
   "cell_type": "markdown",
   "source": [
    "Eventually you should see something like this::\n",
    "\n",
    "    {\n",
    "        'created': datetime.datetime(2020, 7, 27, 14, 7, 6, 654905, tzinfo=tzutc()),\n",
    "        'id': 15866,\n",
    "        'name': 'finished',\n",
    "        'paused': False,\n",
    "        'time': 3600.0\n",
    "     }\n",
    "\n",
    "Congratulations, you just made your first simulation via the threedi-api-client!"
   ],
   "metadata": {
    "collapsed": false,
    "pycharm": {
     "name": "#%% md\n"
    }
   }
  },
  {
   "cell_type": "code",
   "execution_count": null,
   "metadata": {},
   "outputs": [],
   "source": []
  }
 ],
 "metadata": {
  "kernelspec": {
   "display_name": "Python 3",
   "language": "python",
   "name": "python3"
  },
  "language_info": {
   "codemirror_mode": {
    "name": "ipython",
    "version": 3
   },
   "file_extension": ".py",
   "mimetype": "text/x-python",
   "name": "python",
   "nbconvert_exporter": "python",
   "pygments_lexer": "ipython3",
   "version": "3.8.1"
  }
 },
 "nbformat": 4,
 "nbformat_minor": 1
}