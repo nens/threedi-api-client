{
 "cells": [
  {
   "cell_type": "markdown",
   "metadata": {
    "collapsed": true,
    "pycharm": {
     "name": "#%% md\n"
    }
   },
   "source": [
    "### Visualise threedimodel\n",
    "\n",
    "In this notebook we'll make an interactive map of a threedimodel using [ipyleaflet](https://ipyleaflet.readthedocs.io/en/latest/index.html).\n",
    "To run this notebook locally make sure you have it installed.\n",
    "\n",
    "\n",
    "As always, we first create a api-client with our authentication details."
   ]
  },
  {
   "cell_type": "code",
   "execution_count": null,
   "metadata": {
    "pycharm": {
     "name": "#%%\n"
    }
   },
   "outputs": [],
   "source": [
    "import ast\n",
    "import requests\n",
    "import json\n",
    "from getpass import getpass\n",
    "from openapi_client import ThreedimodelsApi, SimulationsApi\n",
    "from threedi_api_client.threedi_api_client import ThreediApiClient\n",
    "from ipyleaflet import Map, Marker, GeoJSON"
   ]
  },
  {
   "cell_type": "code",
   "execution_count": null,
   "metadata": {
    "pycharm": {
     "name": "#%%\n"
    }
   },
   "outputs": [],
   "source": [
    "# Provide authentication details\n",
    "API_HOST = \"https://api.3di.live/v3.0\"\n",
    "USERNAME = input(\"Username\")\n",
    "PASSWORD = getpass(\"Password\")\n",
    "\n",
    "config = {\n",
    "    \"API_HOST\": API_HOST,\n",
    "    \"API_USERNAME\": USERNAME,\n",
    "    \"API_PASSWORD\": PASSWORD\n",
    "}\n",
    "\n",
    "api_client = ThreediApiClient(config=config)"
   ]
  },
  {
   "cell_type": "markdown",
   "metadata": {},
   "source": [
    "And the threedi-model we are interested in"
   ]
  },
  {
   "cell_type": "code",
   "execution_count": null,
   "metadata": {
    "pycharm": {
     "name": "#%%\n"
    }
   },
   "outputs": [],
   "source": [
    "models_api = ThreedimodelsApi(api_client)\n",
    "threedi_model = models_api.threedimodels_list(name__icontains='v2_bergermeer').results[0]\n",
    "\n",
    "print(threedi_model)"
   ]
  },
  {
   "cell_type": "markdown",
   "source": [
    "Then we display all the cells of the model on a leaflet map:"
   ],
   "metadata": {
    "collapsed": false,
    "pycharm": {
     "name": "#%% md\n"
    }
   }
  },
  {
   "cell_type": "code",
   "execution_count": null,
   "outputs": [],
   "source": [
    "extent = ast.literal_eval(threedi_model.extent_two_d)\n",
    "center = (extent['coordinates'][0][1] + extent['coordinates'][1][1]) / 2.0, (extent['coordinates'][0][0] + extent['coordinates'][1][0]) / 2.0\n",
    "m = Map(center=center, zoom=13)\n",
    "\n",
    "geojson_cells_download = models_api.threedimodels_geojson_cells_download(threedi_model.id)\n",
    "r = requests.get(geojson_cells_download.get_url)\n",
    "geojson_data = json.loads(r.text)\n",
    "\n",
    "geo_json = GeoJSON(\n",
    "    data=geojson_data,\n",
    "    style={\n",
    "        'opacity': 1, 'dashArray': '9', 'fillOpacity': 0.1, 'weight': 1\n",
    "    },\n",
    "    hover_style={\n",
    "        'color': 'white', 'dashArray': '0', 'fillOpacity': 0.5\n",
    "    }\n",
    ")\n",
    "\n",
    "m.add_layer(geo_json)\n",
    "\n",
    "display(m)"
   ],
   "metadata": {
    "collapsed": false,
    "pycharm": {
     "name": "#%%\n"
    }
   }
  },
  {
   "cell_type": "code",
   "execution_count": null,
   "metadata": {
    "pycharm": {
     "name": "#%%\n"
    }
   },
   "outputs": [],
   "source": [
    "\n"
   ]
  }
 ],
 "metadata": {
  "kernelspec": {
   "display_name": "Python 3",
   "language": "python",
   "name": "python3"
  },
  "language_info": {
   "codemirror_mode": {
    "name": "ipython",
    "version": 3
   },
   "file_extension": ".py",
   "mimetype": "text/x-python",
   "name": "python",
   "nbconvert_exporter": "python",
   "pygments_lexer": "ipython3",
   "version": "3.8.1"
  }
 },
 "nbformat": 4,
 "nbformat_minor": 1
}